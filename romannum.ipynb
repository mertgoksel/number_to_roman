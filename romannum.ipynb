{
 "cells": [
  {
   "cell_type": "code",
   "execution_count": 4,
   "metadata": {},
   "outputs": [],
   "source": [
    "import numpy as np\n",
    "import pandas as pd"
   ]
  },
  {
   "cell_type": "markdown",
   "metadata": {},
   "source": [
    "Roman numbers:\n",
    "- I for 1s\n",
    "- V for 5s\n",
    "- X for 10s\n",
    "- L for 50s\n",
    "- C for 100s\n",
    "- D for 500s\n",
    "- M for 1000s"
   ]
  },
  {
   "cell_type": "markdown",
   "metadata": {},
   "source": [
    "Roman numbers:\n",
    "- Letters for whole numbers\n",
    "- if a letter is in front of a bigger one it means extract\n",
    "- if you see 4&9 use the above extention\n",
    "\n",
    "Question : Write a function for transformation of latin to roman"
   ]
  },
  {
   "cell_type": "code",
   "execution_count": 31,
   "metadata": {},
   "outputs": [],
   "source": [
    "roman = {\n",
    "    1000: 'M',\n",
    "    900: 'CM',\n",
    "    600: 'DC',\n",
    "    500: 'D',\n",
    "    400: 'CD',\n",
    "    100: 'C',\n",
    "    90: 'XC',\n",
    "    60: 'LX',\n",
    "    50: 'L',\n",
    "    40: 'XL',\n",
    "    10: 'X',\n",
    "    9: 'IX',\n",
    "    8: 'VIII',\n",
    "    6: 'VI',\n",
    "    5: 'V',\n",
    "    4: 'IV',\n",
    "    1: 'I'\n",
    "}"
   ]
  },
  {
   "cell_type": "code",
   "execution_count": 32,
   "metadata": {},
   "outputs": [],
   "source": [
    "def rom(num):\n",
    "    num_sum = num\n",
    "    show = []\n",
    "    for i in roman:\n",
    "        if(num_sum - i == 0):\n",
    "            num_sum -= i\n",
    "            show.append(i)\n",
    "        elif(num_sum - i > 0):\n",
    "            num_sum -= i\n",
    "            show.append(i)    \n",
    "    \n",
    "    show_str = [roman[i] for i in show]   \n",
    "    print(''.join(show_str))"
   ]
  },
  {
   "cell_type": "code",
   "execution_count": 34,
   "metadata": {},
   "outputs": [
    {
     "name": "stdout",
     "output_type": "stream",
     "text": [
      "XLVIII\n"
     ]
    }
   ],
   "source": [
    "rom(48)"
   ]
  },
  {
   "cell_type": "code",
   "execution_count": 15,
   "metadata": {},
   "outputs": [],
   "source": []
  },
  {
   "cell_type": "code",
   "execution_count": 17,
   "metadata": {},
   "outputs": [],
   "source": []
  },
  {
   "cell_type": "code",
   "execution_count": null,
   "metadata": {},
   "outputs": [],
   "source": []
  }
 ],
 "metadata": {
  "kernelspec": {
   "display_name": "Python 3",
   "language": "python",
   "name": "python3"
  },
  "language_info": {
   "codemirror_mode": {
    "name": "ipython",
    "version": 3
   },
   "file_extension": ".py",
   "mimetype": "text/x-python",
   "name": "python",
   "nbconvert_exporter": "python",
   "pygments_lexer": "ipython3",
   "version": "3.8.3"
  }
 },
 "nbformat": 4,
 "nbformat_minor": 4
}
